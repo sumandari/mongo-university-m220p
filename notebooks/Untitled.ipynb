{
 "cells": [
  {
   "cell_type": "code",
   "execution_count": 18,
   "metadata": {},
   "outputs": [],
   "source": [
    "import pymongo\n",
    "from bson.json_util import dumps\n",
    "uri = \"mongodb://localhost:27017\"\n",
    "client = pymongo.MongoClient(uri)\n",
    "db = client.dionaeareference"
   ]
  },
  {
   "cell_type": "code",
   "execution_count": 19,
   "metadata": {},
   "outputs": [
    {
     "data": {
      "text/plain": [
       "Collection(Database(MongoClient(host=['localhost:27017'], document_class=dict, tz_aware=False, connect=True), 'dionaeareference'), 'connections')"
      ]
     },
     "execution_count": 19,
     "metadata": {},
     "output_type": "execute_result"
    }
   ],
   "source": [
    "db.connections"
   ]
  },
  {
   "cell_type": "code",
   "execution_count": 31,
   "metadata": {},
   "outputs": [],
   "source": [
    "cari = db.connections.find({})"
   ]
  },
  {
   "cell_type": "code",
   "execution_count": 32,
   "metadata": {},
   "outputs": [
    {
     "data": {
      "text/plain": [
       "['_id',\n",
       " 'connection',\n",
       " 'connection_type',\n",
       " 'connection_transport',\n",
       " 'connection_protocol',\n",
       " 'connection_timestamp',\n",
       " 'connection_root',\n",
       " 'connection_parent',\n",
       " 'local_host',\n",
       " 'local_port',\n",
       " 'remote_host',\n",
       " 'remote_hostname',\n",
       " 'remote_port']"
      ]
     },
     "execution_count": 32,
     "metadata": {},
     "output_type": "execute_result"
    }
   ],
   "source": [
    "list(cari)"
   ]
  },
  {
   "cell_type": "code",
   "execution_count": 46,
   "metadata": {},
   "outputs": [
    {
     "name": "stdout",
     "output_type": "stream",
     "text": [
      "{'_id': ObjectId('5d1d540605014d6d8686f140'),\n",
      " 'connection': 41,\n",
      " 'connection_parent': None,\n",
      " 'connection_protocol': 'mysqld',\n",
      " 'connection_root': 41,\n",
      " 'connection_timestamp': 1468416870,\n",
      " 'connection_transport': 'tcp',\n",
      " 'connection_type': 'accept',\n",
      " 'local_host': '202.43.92.50',\n",
      " 'local_port': 3306,\n",
      " 'login': {'_id': ObjectId('5d1d544d05014d6d8686f3ce'),\n",
      "           'connection': 41,\n",
      "           'login': 8,\n",
      "           'login_password': '',\n",
      "           'login_username': 'root'},\n",
      " 'mysql_command': {'_id': ObjectId('5d028a21c310f00592b87679'),\n",
      "                   'connection': 41,\n",
      "                   'mysql_command': 1,\n",
      "                   'mysql_command_cmd': 14},\n",
      " 'mysql_command_op': [{'_id': ObjectId('5ce659e2f5a8e73894dedf7a'),\n",
      "                       'mysql_command_cmd': 14,\n",
      "                       'mysql_command_op': 15,\n",
      "                       'mysql_command_op_name': 'COM_PING'}],\n",
      " 'remote_host': '124.172.136.143',\n",
      " 'remote_hostname': '',\n",
      " 'remote_port': 3655}\n"
     ]
    }
   ],
   "source": [
    "pipeline = [\n",
    "    {\n",
    "        '$match': {}\n",
    "    }, {\n",
    "        '$lookup': {\n",
    "            'from': 'logins', \n",
    "            'localField': 'connection', \n",
    "            'foreignField': 'connection', \n",
    "            'as': 'login'\n",
    "        }\n",
    "    }, {\n",
    "        '$unwind': '$login'\n",
    "    }, {\n",
    "        '$lookup': {\n",
    "            'from': 'mysql_commands', \n",
    "            'localField': 'connection', \n",
    "            'foreignField': 'connection', \n",
    "            'as': 'mysql_command'\n",
    "        }\n",
    "    }, {\n",
    "        '$unwind': '$mysql_command'\n",
    "    }, {\n",
    "        '$lookup': {\n",
    "            'from': 'mysql_command_ops', \n",
    "            'localField': 'mysql_command.mysql_command_cmd', \n",
    "            'foreignField': 'mysql_command_cmd', \n",
    "            'as': 'mysql_command_op'\n",
    "        }\n",
    "    }\n",
    "]\n",
    "cari = db.connections.aggregate(pipeline).next()\n",
    "from pprint import pprint\n",
    "pprint(cari)"
   ]
  },
  {
   "cell_type": "code",
   "execution_count": null,
   "metadata": {},
   "outputs": [],
   "source": []
  }
 ],
 "metadata": {
  "kernelspec": {
   "display_name": "Python 3",
   "language": "python",
   "name": "python3"
  },
  "language_info": {
   "codemirror_mode": {
    "name": "ipython",
    "version": 3
   },
   "file_extension": ".py",
   "mimetype": "text/x-python",
   "name": "python",
   "nbconvert_exporter": "python",
   "pygments_lexer": "ipython3",
   "version": "3.6.5"
  }
 },
 "nbformat": 4,
 "nbformat_minor": 2
}
