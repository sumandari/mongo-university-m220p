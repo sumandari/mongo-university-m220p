{
 "cells": [
  {
   "cell_type": "code",
   "execution_count": 6,
   "metadata": {},
   "outputs": [],
   "source": [
    "import pymongo\n",
    "from bson.json_util import dumps\n",
    "uri = \"mongodb://localhost:27017\"\n",
    "client = pymongo.MongoClient(uri)\n",
    "db = client.dionaeareference"
   ]
  },
  {
   "cell_type": "code",
   "execution_count": 16,
   "metadata": {},
   "outputs": [
    {
     "name": "stdout",
     "output_type": "stream",
     "text": [
      "{'_id': ObjectId('5d1d540605014d6d8686f118'), 'connection': 1, 'connection_type': 'accept', 'connection_transport': 'tcp', 'connection_protocol': 'epmapper', 'connection_timestamp': 1468414540, 'connection_root': 1, 'connection_parent': None, 'local_host': '202.43.92.50', 'local_port': 135, 'remote_host': '23.251.55.182', 'remote_hostname': '', 'remote_port': 2713}\n",
      "500\n"
     ]
    }
   ],
   "source": [
    "print(db.connections.find_one())\n",
    "print(len(list(db.connections.find())))"
   ]
  },
  {
   "cell_type": "code",
   "execution_count": 116,
   "metadata": {},
   "outputs": [
    {
     "name": "stdout",
     "output_type": "stream",
     "text": [
      "500\n",
      "{'_id': ObjectId('5d1d540605014d6d8686f118'),\n",
      " 'connection': 1,\n",
      " 'connection_parent': None,\n",
      " 'connection_protocol': 'epmapper',\n",
      " 'connection_root': 1,\n",
      " 'connection_timestamp': 1468414540,\n",
      " 'connection_transport': 'tcp',\n",
      " 'connection_type': 'accept',\n",
      " 'local_host': '202.43.92.50',\n",
      " 'local_port': 135,\n",
      " 'login': [],\n",
      " 'mysql_command': [],\n",
      " 'mysql_command_op': [],\n",
      " 'remote_host': '23.251.55.182',\n",
      " 'remote_hostname': '',\n",
      " 'remote_port': 2713}\n"
     ]
    }
   ],
   "source": [
    "pipeline = [\n",
    "    {'$lookup': {\n",
    "            'from': 'logins', \n",
    "            'localField': 'connection', \n",
    "            'foreignField': 'connection', \n",
    "            'as': 'login'\n",
    "            }\n",
    "    },\n",
    "#     {'$unwind': { \n",
    "#                'path': '$login', \n",
    "#                 'preserveNullAndEmptyArrays': True \n",
    "#            }\n",
    "#     },\n",
    "    {'$lookup': {\n",
    "        'from': 'mysql_commands', \n",
    "        'localField': 'connection', \n",
    "        'foreignField': 'connection', \n",
    "        'as': 'mysql_command'\n",
    "        }\n",
    "    },\n",
    "    {'$lookup': {\n",
    "        'from': 'mysql_command_ops', \n",
    "        'localField': 'mysql_command.mysql_command_cmd', \n",
    "        'foreignField': 'mysql_command_cmd', \n",
    "        'as': 'mysql_command_op'\n",
    "        }\n",
    "    },\n",
    "    {'$project': {\n",
    "         'login._id': 0, \n",
    "         'login.connection': 0, \n",
    "         'mysql_command._id': 0, \n",
    "         'mysql_command.connection': 0, \n",
    "         'mysql_command_op._id': 0\n",
    "        }\n",
    "    }\n",
    "#     {'$project': {\n",
    "#          '_id': '$_id',\n",
    "# 'connection': '$connection',\n",
    "# 'connection_parent': '$connection_parent',\n",
    "# 'connection_protocol': '$connection_protocol',\n",
    "# 'connection_root': '$connection_root',\n",
    "# 'connection_timestamp': '$connection_timestamp',\n",
    "# 'connection_transport': '$connection_transport',\n",
    "# 'connection_type': '$connection_type',\n",
    "# 'local_host': '$local_host',\n",
    "# 'local_port': '$local_port',\n",
    "# 'login': {\n",
    "#     '$cond': {\n",
    "#         'if': {'$eq': ['$login', []]},\n",
    "#         'then': None,\n",
    "#         'else': {\n",
    "#             'login':'$login.login',\n",
    "#             'login_username': '$login.login_username',\n",
    "#             'login_password': '$login.login_password',\n",
    "            \n",
    "#         },\n",
    "#     '$unwind': { \n",
    "#                'path': '$login', \n",
    "#                 'preserveNullAndEmptyArrays': True \n",
    "#            }\n",
    "#     }\n",
    "# },\n",
    "# 'mysql_command': '$mysql_command',\n",
    "# 'mysql_command_op': '$mysql_command_op',\n",
    "# 'remote_host': '$remote_host',\n",
    "# 'remote_hostname': '$remote_hostname',\n",
    "# 'remote_port':'$remote_port '\n",
    "#         }\n",
    "#     },\n",
    "#      {'$unwind': { \n",
    "#                'path': '$login', \n",
    "#                 'preserveNullAndEmptyArrays': True \n",
    "#            }\n",
    "#     },\n",
    "#     }\n",
    "]\n",
    "cari = db.connections.aggregate(pipeline)\n",
    "from pprint import pprint\n",
    "result = list(cari)\n",
    "print(len(result))\n",
    "pprint(result[0])"
   ]
  },
  {
   "cell_type": "code",
   "execution_count": 118,
   "metadata": {},
   "outputs": [
    {
     "name": "stdout",
     "output_type": "stream",
     "text": [
      "{'_id': ObjectId('5d1d540605014d6d8686f1c5'),\n",
      " 'connection': 174,\n",
      " 'connection_parent': None,\n",
      " 'connection_protocol': 'mysqld',\n",
      " 'connection_root': 174,\n",
      " 'connection_timestamp': 1468428855,\n",
      " 'connection_transport': 'tcp',\n",
      " 'connection_type': 'accept',\n",
      " 'local_host': '202.43.92.50',\n",
      " 'local_port': 3306,\n",
      " 'login': [{'login': 33, 'login_password': '', 'login_username': 'root'}],\n",
      " 'mysql_command': [{'mysql_command': 5, 'mysql_command_cmd': 3},\n",
      "                   {'mysql_command': 7, 'mysql_command_cmd': 1}],\n",
      " 'mysql_command_op': [{'mysql_command_cmd': 1,\n",
      "                       'mysql_command_op': 2,\n",
      "                       'mysql_command_op_name': 'COM_QUIT'},\n",
      "                      {'mysql_command_cmd': 3,\n",
      "                       'mysql_command_op': 4,\n",
      "                       'mysql_command_op_name': 'COM_QUERY'}],\n",
      " 'remote_host': '45.114.106.190',\n",
      " 'remote_hostname': '',\n",
      " 'remote_port': 3751}\n"
     ]
    }
   ],
   "source": [
    "for i in result:\n",
    "    if i.get('mysql_command'):\n",
    "        if len(i.get('mysql_command')) > 1:\n",
    "            pprint(i)\n",
    "            break"
   ]
  },
  {
   "cell_type": "code",
   "execution_count": 80,
   "metadata": {},
   "outputs": [
    {
     "data": {
      "text/plain": [
       "Collection(Database(MongoClient(host=['localhost:27017'], document_class=dict, tz_aware=False, connect=True), 'dionaeareference'), 'joincol')"
      ]
     },
     "execution_count": 80,
     "metadata": {},
     "output_type": "execute_result"
    }
   ],
   "source": [
    "db.joincol500"
   ]
  },
  {
   "cell_type": "code",
   "execution_count": 82,
   "metadata": {},
   "outputs": [],
   "source": [
    "bulk_results = db.joincol500.insert_many(result , ordered=False)\n",
    "# print(f\"{bulk_results.modified_count} documents updated\")"
   ]
  },
  {
   "cell_type": "code",
   "execution_count": null,
   "metadata": {},
   "outputs": [],
   "source": []
  }
 ],
 "metadata": {
  "kernelspec": {
   "display_name": "Python 3",
   "language": "python",
   "name": "python3"
  },
  "language_info": {
   "codemirror_mode": {
    "name": "ipython",
    "version": 3
   },
   "file_extension": ".py",
   "mimetype": "text/x-python",
   "name": "python",
   "nbconvert_exporter": "python",
   "pygments_lexer": "ipython3",
   "version": "3.6.5"
  }
 },
 "nbformat": 4,
 "nbformat_minor": 2
}
